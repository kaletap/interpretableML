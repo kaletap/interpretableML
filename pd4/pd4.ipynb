{
 "cells": [
  {
   "cell_type": "markdown",
   "metadata": {},
   "source": [
    "# Przemysław Kaleta\n",
    "Data: https://data.stanford.edu/hcmst2017"
   ]
  },
  {
   "cell_type": "code",
   "execution_count": 16,
   "metadata": {},
   "outputs": [],
   "source": [
    "import pandas as pd\n",
    "import numpy as np\n",
    "import random\n",
    "import matplotlib.pyplot as plt\n",
    "\n",
    "from sklearn import preprocessing\n",
    "from sklearn.model_selection import train_test_split\n",
    "from sklearn.metrics import f1_score\n",
    "\n",
    "import xgboost as xgb\n",
    "\n",
    "from collections import defaultdict"
   ]
  },
  {
   "cell_type": "code",
   "execution_count": 17,
   "metadata": {},
   "outputs": [],
   "source": [
    "data = pd.read_stata(\"hcmts.dta\")"
   ]
  },
  {
   "cell_type": "markdown",
   "metadata": {},
   "source": [
    "Explanations of variable names taken from:\n",
    "\n",
    "https://stacks.stanford.edu/file/druid:vt073cc9067/HCMST_2017_fresh_Codeboodk_v1.1a.pdf\n",
    "\n",
    "* Yes/no questions:\n",
    "    * **Q5** Is [Partner name] the same sex as you? \n",
    "    * **Q25_2** Did you and [Partner name] attend the same high school?\n",
    "    * **Q10** Highest level of schooling of partner\n",
    "    * **hcm2017q24_met_online** Met online\n",
    "    \n",
    "* Quantitative questions:\n",
    "    * **w6_q9** partner age in 2017\n",
    "    * **w6_q24_length** length of q24 how met answer in characters"
   ]
  },
  {
   "cell_type": "code",
   "execution_count": 18,
   "metadata": {},
   "outputs": [],
   "source": [
    "binary_variables = [\"Q5\", \"Q25_2\", \"Q26_2\",  \"hcm2017q24_met_online\"]\n",
    "continuous_variables = [\"w6_q9\", \"w6_q24_length\"]\n",
    "predicted_variables = [\"S1\"]\n",
    "variables = binary_variables + continuous_variables + predicted_variables\n",
    "mydata = data.loc[data.S1.notna(), variables]"
   ]
  },
  {
   "cell_type": "markdown",
   "metadata": {},
   "source": [
    "## Model"
   ]
  },
  {
   "cell_type": "code",
   "execution_count": 19,
   "metadata": {},
   "outputs": [],
   "source": [
    "\n",
    "\n",
    "# Dictionary with keys as columns of categorical variables \n",
    "# and values as functions which for a given code tell us what category it is\n",
    "name_from_code = defaultdict(lambda: lambda x: x)\n",
    "\n",
    "# usage: name_from_code[\"column_name\"](code)\n",
    "# If column name is not in binary variables name_from_code[\"column_name\"] is an identity function.\n",
    "\n",
    "for column_name in binary_variables + predicted_variables:\n",
    "    \n",
    "    column = mydata[column_name].values\n",
    "    \n",
    "    def _name_from_code(x, col=column):\n",
    "        return col.from_codes([x], col.categories)[0]\n",
    "    \n",
    "    name_from_code[column_name] = _name_from_code\n",
    "    \n",
    "    mydata[column_name] = column.codes\n",
    "    \n"
   ]
  },
  {
   "cell_type": "code",
   "execution_count": 20,
   "metadata": {},
   "outputs": [
    {
     "name": "stdout",
     "output_type": "stream",
     "text": [
      "Positive/negative percentages in population: 0.405982905982906 / 0.594017094017094\n",
      "Accuracy 0.8076923076923077\n",
      "F1 score: 0.7283702213279677\n"
     ]
    }
   ],
   "source": [
    "X, y = mydata.drop(\"S1\", axis=1), mydata[\"S1\"]\n",
    "X_train, X_test, y_train, y_test = train_test_split(X, y, test_size=0.2, random_state=42)\n",
    "\n",
    "xgb_model = xgb.XGBClassifier(objective ='binary:logistic', colsample_bytree = 0.3, learning_rate = 0.35,\n",
    "                max_depth = 5, alpha = 0, n_estimators = 100)\n",
    "xgb_model.fit(X_train, y_train)\n",
    "\n",
    "y_pred = xgb_model.predict(X_test)\n",
    "y_pred_train = xgb_model.predict(X_train)\n",
    "\n",
    "def test_classifier(y_true, y_pred):\n",
    "    n = len(y_true)\n",
    "    print(f\"Positive/negative percentages in population: {sum(y_true) / n} / {sum(y_true == 0) / n}\")\n",
    "    print(f\"Accuracy {sum(y_true == y_pred) / n}\")\n",
    "    print(f\"F1 score: {f1_score(y_true, y_pred)}\")\n",
    "    \n",
    "test_classifier(y_test, y_pred)\n",
    "\n",
    "colnames = X_train.columns\n",
    "names_explained_list = [\"same_sex\", \"high_school\", \"university\", \"met_online\", \"partner_age\", \"w6_q24_length\"]\n",
    "names_explained = {colname: colname_explained for colname, colname_explained in zip(colnames, names_explained_list)}"
   ]
  },
  {
   "cell_type": "markdown",
   "metadata": {},
   "source": [
    "## LIME"
   ]
  },
  {
   "cell_type": "markdown",
   "metadata": {},
   "source": [
    "Spróbujemy zastosować metodę LIME do wyjaśnienia predykcji modelu."
   ]
  },
  {
   "cell_type": "markdown",
   "metadata": {},
   "source": [
    "#### Osoba 1 "
   ]
  },
  {
   "cell_type": "code",
   "execution_count": 37,
   "metadata": {},
   "outputs": [
    {
     "name": "stdout",
     "output_type": "stream",
     "text": [
      "    Q5  Q25_2  Q26_2  hcm2017q24_met_online  w6_q9  w6_q24_length\n",
      "0 -1.0   -1.0   -1.0                    0.0   75.0          109.0\n",
      "Predicted probabilities: [[0.93014497 0.06985502]]\n",
      "same_sex nan\n",
      "high_school nan\n",
      "university nan\n",
      "met_online no\n",
      "partner_age 75.0\n",
      "w6_q24_length 109.0\n",
      "0\n",
      "S1 - prediction Index(['Yes, I am Married'], dtype='object')\n"
     ]
    }
   ],
   "source": [
    "def get_random_person(X):\n",
    "    random_person = X.iloc[random.choice(range(0, len(X)))]\n",
    "    random_person = pd.DataFrame([random_person.values], columns=X_train.columns)\n",
    "    print(random_person)\n",
    "    print(\"Predicted probabilities:\", xgb_model.predict_proba(random_person))\n",
    "    for colname, code in zip(random_person.columns, random_person.iloc[0]):\n",
    "        print(names_explained[colname], name_from_code[colname](code))\n",
    "    married = xgb_model.predict(random_person)\n",
    "    print(married[0])\n",
    "    print(\"S1 - prediction\", name_from_code[\"S1\"](married))\n",
    "    return random_person\n",
    "\n",
    "random.seed(11)\n",
    "random_person = get_random_person(X_train)"
   ]
  },
  {
   "cell_type": "markdown",
   "metadata": {},
   "source": [
    "Poniższa klasa reprezentuje klasę wyjaśniającą nasz model. Wyjaśnianie opiera się na pomyśle opartym na pracy \"Why Should I Trust You. Explaining the Predictions of Any Classifier\".\n",
    "\n",
    "Wyjasnianiamy predykcję dla jednej ustalonej obserwacji. Chcąc dowiedzieć się o zachowaniu się modelu dla podobnych obserwacji generujemy losowe zaburzenia dla każdej zmiennej niezależnej. Dla każdej zaburzonej obserwacji możemy dokonać predykcji naszym modelem. Ponieważ nie ma gwarancji, że powstałe obserwacje są bliskie do wyjściowej to w kolejnym etapie będziemy wyznaczali wagi bazujące na odległości (równie dobrze moglibyśmy próbkować ze zbioru danych). Budujemy model regresji logistycznej (ważonej), którą możemy łatwo interpretować - każdej zmiennej przypisana jest jedna liczba, a jej wielkość możemy interpretować jako istotność współczynnika (żeby interpretacja ta była bardziej intuicyjna warto by było znormalizować najpierw zmienne). Ponieważ zmiennych mamy mało możemy spojrzeć na każdy współczynnik. Gdyby tak nie było musielibyśmy wybierać `K` najbardziej istotnych zmiennych."
   ]
  },
  {
   "cell_type": "code",
   "execution_count": 109,
   "metadata": {},
   "outputs": [],
   "source": [
    "class Lime:\n",
    "    def __init__(self, X, model, binary_variables, continuous_variables, observation, sigma=0.1, N=1000):\n",
    "        \"\"\"\n",
    "        Accepts \n",
    "        \"\"\"\n",
    "        self.X = X\n",
    "        self.model = model\n",
    "        self.binary_variables = binary_variables\n",
    "        self.continuous_variables = continuous_variables\n",
    "        self.variables = self.binary_variables + self.continuous_variables\n",
    "        self.means = {variable: X.mean()[variable] for variable in continuous_variables}\n",
    "        self.stdevs = {variable: X.std()[variable] for variable in binary_variables + continuous_variables}\n",
    "        self.mins = {variable: np.quantile(X[variable].dropna(), 0.02, interpolation=\"higher\") for variable in continuous_variables}\n",
    "        self.maxs = {variable: np.quantile(X[variable].dropna(), 0.98, interpolation=\"lower\") for variable in continuous_variables}\n",
    "        self.observation = observation.copy()\n",
    "        self.sigma = sigma\n",
    "        self.N = N\n",
    "        \n",
    "    def perturb_observation(self):\n",
    "        new_observation = self.observation.copy()\n",
    "        for variable in continuous_variables:\n",
    "            new_observation[variable] = np.random.uniform(self.mins[variable], self.maxs[variable])\n",
    "        for variable in binary_variables:\n",
    "            new_observation[variable] = random.choice([-1, 0, 1])\n",
    "        return new_observation\n",
    "            \n",
    "    def _generate_perturbed_set(self):\n",
    "        SEED = 10\n",
    "        random.seed(SEED)\n",
    "        np.random.seed(SEED)\n",
    "        self.perturbed = pd.concat([self.perturb_observation() for _ in range(self.N)])\n",
    "        self.perturbed[\"prediction\"] = self.model.predict(self.perturbed)\n",
    "        \n",
    "    def _observation_weight(self, perturbed_observation, sigma):\n",
    "        \"\"\"\n",
    "        Defines distance between perturbed observation and original one.\n",
    "        Since variables may have different magnitudes we divide by standard error.\n",
    "        Than we compute weight for this observation in weighted regression (exponential kernel).\n",
    "        \"\"\"\n",
    "        total_distance = 0\n",
    "        for variable in self.binary_variables + self.continuous_variables:\n",
    "            # observation is a data frame with one row\n",
    "            total_distance += ((perturbed_observation[variable] - self.observation[variable]) / self.stdevs[variable])**2\n",
    "        return np.exp(-total_distance)\n",
    "    \n",
    "    def get_weights(self, sigma):\n",
    "        return self.perturbed.apply(lambda x: self._observation_weight(x, sigma), axis=1)[0].values\n",
    "            \n",
    "    def fit_simple_model(self):\n",
    "        from sklearn.linear_model import SGDClassifier\n",
    "        simple_model = SGDClassifier(loss=\"log\", penalty=\"l2\", alpha=0.001, max_iter=1000, tol=0.001)\n",
    "        simple_model.fit(self.perturbed.loc[:, self.binary_variables + self.continuous_variables], self.perturbed[\"prediction\"].values, sample_weight=self.get_weights(self.sigma))\n",
    "        self.coef = simple_model.coef_[0]\n",
    "        \n",
    "    def plot_simple_model(self):\n",
    "        plt.bar([names_explained[name] for name in self.variables], self.coef)\n",
    "        plt.xticks(rotation=50)\n",
    "        \n",
    "    def lime(self):\n",
    "        self._generate_perturbed_set()\n",
    "        self.fit_simple_model()\n",
    "        self.plot_simple_model()"
   ]
  },
  {
   "cell_type": "code",
   "execution_count": 110,
   "metadata": {},
   "outputs": [
    {
     "data": {
      "image/png": "[encoded data removed]",
      "text/plain": [
       "<Figure size 432x288 with 1 Axes>"
      ]
     },
     "metadata": {
      "needs_background": "light"
     },
     "output_type": "display_data"
    }
   ],
   "source": [
    "lime = Lime(X_train, xgb_model, binary_variables, continuous_variables, random_person)\n",
    "lime.lime()"
   ]
  },
  {
   "cell_type": "markdown",
   "metadata": {},
   "source": [
    "Wykres pokazuje współczynniki w modelu regresji logistycznej. Jeśli współczynnik jest dodatni to zwiększanie danej zmiennej powoduje zmniejszanie szansy na bycie ożenionym (przypomnijmy, że nasze kodowanie zmiennej wyjasnienej oznacza 0 - bycie w związku małżeńskim, 1 - nie). Muszę jednak zwrócić uwagę, że pomimo regularyzacji i prób zmieniania na przykład współczynnika sigma (który występuje przy wagach) współczynniki te zachowują się bardzo niestabilnie, w sposób zbliżony do losowego. Ponadto współczynniki binarne nie ma co zwracać uwagi, ponieważ w samym zbiorze danych było bardzo mało znanych wartości, a o braku sensowności tych zmiennych można się było już przekonać. Warto natomiast zwrócić uwage na współczynnik przy wieku, jest on dodatni. Mogłoby to sie wydawać dziwne, gdyby nie fakt, że osoba której predykcję wyjaśniamy ma już 75 lat, a wtedy dalsze zwiększanie wieku zmniejszało szanse na posiadanie (żyjącego) małżonka."
   ]
  },
  {
   "cell_type": "code",
   "execution_count": 114,
   "metadata": {},
   "outputs": [
    {
     "name": "stdout",
     "output_type": "stream",
     "text": [
      "    Q5  Q25_2  Q26_2  hcm2017q24_met_online  w6_q9  w6_q24_length\n",
      "0 -1.0   -1.0   -1.0                    1.0   48.0           91.0\n",
      "Predicted probabilities: [[0.7741276 0.2258724]]\n",
      "same_sex nan\n",
      "high_school nan\n",
      "university nan\n",
      "met_online yes\n",
      "partner_age 48.0\n",
      "w6_q24_length 91.0\n",
      "0\n",
      "S1 - prediction Index(['Yes, I am Married'], dtype='object')\n"
     ]
    },
    {
     "data": {
      "image/png": "[encoded data removed]",
      "text/plain": [
       "<Figure size 432x288 with 1 Axes>"
      ]
     },
     "metadata": {
      "needs_background": "light"
     },
     "output_type": "display_data"
    }
   ],
   "source": [
    "random.seed(1)\n",
    "random_person2 = get_random_person(X_train)\n",
    "lime = Lime(X_train, xgb_model, binary_variables, continuous_variables, random_person2)\n",
    "lime.lime()"
   ]
  },
  {
   "cell_type": "markdown",
   "metadata": {},
   "source": [
    "Tutaj dla osoby w wieku 48 lat im większy wiek, tym większa szansa na bycie w związku co ma sens."
   ]
  },
  {
   "cell_type": "markdown",
   "metadata": {},
   "source": [
    "## Podsumowanie\n",
    "Podsumowując wykonaną implementację i wyniki wyjaśnień dochodze do wniosku, że trochę prostsze metody jak Partial Dependency Plots są dużo lepszym sposobem na wyjaśnianie danych tabularycznych. Doceniam jednak użyteczność pomysłu LIME dla danych obrazkowych albo tekstowych dla których trzeba dobrać odpowiedni prosty model wyjaśniający na podstawie specjalnie dobranych cech. Mółgby on też być bardziej użyteczny dla modelu budowanego na wielu zmiennych.\n",
    "\n",
    "Po drugie przekonałem się teraz, że model, który ma teoretycznie dobre wyniki po bardziej szczegółowym przyjrzeniu się okazuje się nie aż tak dobry i podatny na błędy spowodowane na przykład niską jakością danych."
   ]
  }
 ],
 "metadata": {
  "kernelspec": {
   "display_name": "Python 3",
   "language": "python",
   "name": "python3"
  },
  "language_info": {
   "codemirror_mode": {
    "name": "ipython",
    "version": 3
   },
   "file_extension": ".py",
   "mimetype": "text/x-python",
   "name": "python",
   "nbconvert_exporter": "python",
   "pygments_lexer": "ipython3",
   "version": "3.7.1"
  }
 },
 "nbformat": 4,
 "nbformat_minor": 2
}
