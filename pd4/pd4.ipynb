{
 "cells": [
  {
   "cell_type": "markdown",
   "metadata": {},
   "source": [
    "# Przemysław Kaleta\n",
    "Data: https://data.stanford.edu/hcmst2017"
   ]
  },
  {
   "cell_type": "code",
   "execution_count": 490,
   "metadata": {},
   "outputs": [],
   "source": [
    "import pandas as pd\n",
    "import numpy as np\n",
    "import random\n",
    "import matplotlib.pyplot as plt\n",
    "\n",
    "from sklearn import preprocessing\n",
    "from sklearn.model_selection import train_test_split\n",
    "from sklearn.metrics import f1_score\n",
    "\n",
    "import xgboost as xgb\n",
    "\n",
    "from collections import defaultdict"
   ]
  },
  {
   "cell_type": "code",
   "execution_count": 491,
   "metadata": {},
   "outputs": [],
   "source": [
    "data = pd.read_stata(\"hcmts.dta\")"
   ]
  },
  {
   "cell_type": "markdown",
   "metadata": {},
   "source": [
    "Explanations of variable names taken from:\n",
    "\n",
    "https://stacks.stanford.edu/file/druid:vt073cc9067/HCMST_2017_fresh_Codeboodk_v1.1a.pdf\n",
    "\n",
    "* Yes/no questions:\n",
    "    * **Q5** Is [Partner name] the same sex as you? \n",
    "    * **Q25_2** Did you and [Partner name] attend the same high school?\n",
    "    * **Q10** Highest level of schooling of partner\n",
    "    * **hcm2017q24_met_online** Met online\n",
    "    \n",
    "* Quantitative questions:\n",
    "    * **w6_q9** partner age in 2017\n",
    "    * **w6_q24_length** length of q24 how met answer in characters"
   ]
  },
  {
   "cell_type": "code",
   "execution_count": 492,
   "metadata": {},
   "outputs": [],
   "source": [
    "binary_variables = [\"Q5\", \"Q25_2\", \"Q26_2\",  \"hcm2017q24_met_online\"]\n",
    "continuous_variables = [\"w6_q9\", \"w6_q24_length\"]\n",
    "predicted_variables = [\"S1\"]\n",
    "variables = binary_variables + continuous_variables + predicted_variables\n",
    "mydata = data.loc[data.S1.notna(), variables]"
   ]
  },
  {
   "cell_type": "markdown",
   "metadata": {},
   "source": [
    "## Model"
   ]
  },
  {
   "cell_type": "code",
   "execution_count": 493,
   "metadata": {},
   "outputs": [],
   "source": [
    "# Dictionary with keys as columns of categorical variables \n",
    "# and values as functions which for a given code tell us what category it is\n",
    "name_from_code = defaultdict(lambda: lambda x: x)\n",
    "\n",
    "# usage: name_from_code[\"column_name\"](code)\n",
    "# If column name is not in binary variables name_from_code[\"column_name\"] is an identity function.\n",
    "\n",
    "for column_name in binary_variables + predicted_variables:\n",
    "    \n",
    "    column = mydata[column_name].values\n",
    "    \n",
    "    def _name_from_code(x, col=column):\n",
    "        return col.from_codes([x], col.categories)[0]\n",
    "    \n",
    "    name_from_code[column_name] = _name_from_code\n",
    "    \n",
    "    mydata[column_name] = column.codes\n",
    "    \n",
    "colnames = X_train.columns\n",
    "names_explained_list = [\"same_sex\", \"high_school\", \"university\", \"met_online\", \"partner_age\", \"w6_q24_length\"]\n",
    "names_explained = {colname: colname_explained for colname, colname_explained in zip(colnames, names_explained_list)}"
   ]
  },
  {
   "cell_type": "code",
   "execution_count": 362,
   "metadata": {},
   "outputs": [
    {
     "name": "stdout",
     "output_type": "stream",
     "text": [
      "Positive/negative percentages in population: 0.405982905982906 / 0.594017094017094\n",
      "Accuracy 0.8076923076923077\n",
      "F1 score: 0.7283702213279677\n"
     ]
    }
   ],
   "source": [
    "X, y = mydata.drop(\"S1\", axis=1), mydata[\"S1\"]\n",
    "X_train, X_test, y_train, y_test = train_test_split(X, y, test_size=0.2, random_state=42)\n",
    "\n",
    "xgb_model = xgb.XGBClassifier(objective ='binary:logistic', colsample_bytree = 0.3, learning_rate = 0.35,\n",
    "                max_depth = 5, alpha = 0, n_estimators = 100)\n",
    "xgb_model.fit(X_train, y_train)\n",
    "\n",
    "y_pred = xgb_model.predict(X_test)\n",
    "y_pred_train = xgb_model.predict(X_train)\n",
    "\n",
    "def test_classifier(y_true, y_pred):\n",
    "    n = len(y_true)\n",
    "    print(f\"Positive/negative percentages in population: {sum(y_true) / n} / {sum(y_true == 0) / n}\")\n",
    "    print(f\"Accuracy {sum(y_true == y_pred) / n}\")\n",
    "    print(f\"F1 score: {f1_score(y_true, y_pred)}\")\n",
    "    \n",
    "test_classifier(y_test, y_pred)"
   ]
  },
  {
   "cell_type": "markdown",
   "metadata": {},
   "source": [
    "## LIME"
   ]
  },
  {
   "cell_type": "markdown",
   "metadata": {},
   "source": [
    "Spróbujemy zastosować metodę LIME do wyjaśnienia predykcji modelu."
   ]
  },
  {
   "cell_type": "markdown",
   "metadata": {},
   "source": [
    "#### Osoba 1 "
   ]
  },
  {
   "cell_type": "code",
   "execution_count": 363,
   "metadata": {},
   "outputs": [
    {
     "name": "stdout",
     "output_type": "stream",
     "text": [
      "    Q5  Q25_2  Q26_2  hcm2017q24_met_online  w6_q9  w6_q24_length\n",
      "0 -1.0   -1.0   -1.0                    0.0   75.0          109.0\n",
      "Predicted probabilities: [[0.93014497 0.06985502]]\n",
      "Q5 nan\n",
      "Q25_2 nan\n",
      "Q26_2 nan\n",
      "hcm2017q24_met_online no\n",
      "w6_q9 75.0\n",
      "w6_q24_length 109.0\n",
      "S1 - prediction Index(['Yes, I am Married'], dtype='object')\n"
     ]
    }
   ],
   "source": [
    "def get_random_person(X):\n",
    "    random_person = X.iloc[random.choice(range(0, len(X)))]\n",
    "    random_person = pd.DataFrame([random_person.values], columns=X_train.columns)\n",
    "    print(random_person)\n",
    "    print(\"Predicted probabilities:\", xgb_model.predict_proba(random_person))\n",
    "    for colname, code in zip(random_person.columns, random_person.iloc[0]):\n",
    "        print(colname, name_from_code[colname](code))\n",
    "    married = xgb_model.predict(random_person)\n",
    "    print(\"S1 - prediction\", name_from_code[\"S1\"](married))\n",
    "    return random_person\n",
    "\n",
    "random.seed(11)\n",
    "random_person = get_random_person(X_train)"
   ]
  },
  {
   "cell_type": "code",
   "execution_count": 517,
   "metadata": {},
   "outputs": [],
   "source": [
    "class Lime:\n",
    "    def __init__(self, X, model, binary_variables, continuous_variables, observation):\n",
    "        self.X = X\n",
    "        self.model = model\n",
    "        self.binary_variables = binary_variables\n",
    "        self.continuous_variables = continuous_variables\n",
    "        self.variables = self.binary_variables + self.continuous_variables\n",
    "        self.means = {variable: X.mean()[variable] for variable in continuous_variables}\n",
    "        self.stdevs = {variable: X.std()[variable] for variable in binary_variables + continuous_variables}\n",
    "        self.mins = {variable: np.quantile(X[variable].dropna(), 0.02, interpolation=\"higher\") for variable in continuous_variables}\n",
    "        self.maxs = {variable: np.quantile(X[variable].dropna(), 0.98, interpolation=\"lower\") for variable in continuous_variables}\n",
    "        self.observation = observation.copy()\n",
    "        \n",
    "    def perturb_observation(self):\n",
    "        new_observation = self.observation.copy()\n",
    "        for variable in continuous_variables:\n",
    "            new_observation[variable] = np.random.uniform(self.mins[variable], self.maxs[variable])\n",
    "        for variable in binary_variables:\n",
    "            new_observation[variable] = random.choice([-1, 0, 1])\n",
    "        return new_observation\n",
    "            \n",
    "    def _generate_perturbed_set(self, N):\n",
    "        self.perturbed = pd.concat([self.perturb_observation() for _ in range(N)])\n",
    "        self.perturbed[\"prediction\"] = self.model.predict(self.perturbed)\n",
    "        \n",
    "    def _observation_weight(self, perturbed_observation, sigma):\n",
    "        \"\"\"\n",
    "        Defines distance between perturbed observation and original one.\n",
    "        Since variables may have different magnitudes we divide by standard error.\n",
    "        Than we compute weight for this observation in weighted regression.\n",
    "        \"\"\"\n",
    "        total_distance = 0\n",
    "        for variable in self.binary_variables + self.continuous_variables:\n",
    "            # observation is a data frame with one row\n",
    "            total_distance += ((perturbed_observation[variable] - self.observation[variable]) / self.stdevs[variable])**2\n",
    "        return np.exp(-total_distance)\n",
    "    \n",
    "    def get_weights(self, sigma):\n",
    "        return self.perturbed.apply(lambda x: self._observation_weight(x, sigma), axis=1)[0].values\n",
    "            \n",
    "    def fit_simple_model(self, sigma=1):\n",
    "        from sklearn.linear_model import SGDClassifier\n",
    "        simple_model = SGDClassifier()\n",
    "        simple_model.fit(self.perturbed.loc[:, self.binary_variables + self.continuous_variables], self.perturbed[\"prediction\"].values, sample_weight=self.get_weights(sigme))\n",
    "        self.coef = simple_model.coef_[0]\n",
    "        \n",
    "    def plot_simple_model(self):\n",
    "        print(self.variables)\n",
    "        plt.bar([names_explained[name] for name in self.variables], self.coef)\n",
    "        "
   ]
  },
  {
   "cell_type": "code",
   "execution_count": 507,
   "metadata": {},
   "outputs": [],
   "source": [
    "lime = Lime(X_train, xgb_model, binary_variables, continuous_variables, random_person)"
   ]
  },
  {
   "cell_type": "code",
   "execution_count": 509,
   "metadata": {},
   "outputs": [],
   "source": [
    "lime._generate_perturbed_set(100)"
   ]
  },
  {
   "cell_type": "code",
   "execution_count": 510,
   "metadata": {},
   "outputs": [
    {
     "data": {
      "text/plain": [
       "0    0.465599\n",
       "Name: Q5, dtype: float64"
      ]
     },
     "execution_count": 510,
     "metadata": {},
     "output_type": "execute_result"
    }
   ],
   "source": [
    "lime._observation_weight(new_person, 1)"
   ]
  },
  {
   "cell_type": "code",
   "execution_count": 511,
   "metadata": {},
   "outputs": [
    {
     "name": "stderr",
     "output_type": "stream",
     "text": [
      "/home/przemyslaw/anaconda3/lib/python3.7/site-packages/sklearn/linear_model/stochastic_gradient.py:166: FutureWarning: max_iter and tol parameters have been added in SGDClassifier in 0.19. If both are left unset, they default to max_iter=5 and tol=None. If tol is not None, max_iter defaults to max_iter=1000. From 0.21, default max_iter will be 1000, and default tol will be 1e-3.\n",
      "  FutureWarning)\n"
     ]
    },
    {
     "data": {
      "text/plain": [
       "SGDClassifier(alpha=0.0001, average=False, class_weight=None,\n",
       "       early_stopping=False, epsilon=0.1, eta0=0.0, fit_intercept=True,\n",
       "       l1_ratio=0.15, learning_rate='optimal', loss='hinge', max_iter=None,\n",
       "       n_iter=None, n_iter_no_change=5, n_jobs=None, penalty='l2',\n",
       "       power_t=0.5, random_state=None, shuffle=True, tol=None,\n",
       "       validation_fraction=0.1, verbose=0, warm_start=False)"
      ]
     },
     "execution_count": 511,
     "metadata": {},
     "output_type": "execute_result"
    }
   ],
   "source": [
    "from sklearn.linear_model import SGDClassifier\n",
    "simple_model = SGDClassifier()\n",
    "simple_model.fit(lime.perturbed.loc[:, lime.binary_variables + lime.continuous_variables], lime.perturbed[\"prediction\"].values, sample_weight=lime.get_weights(1))"
   ]
  },
  {
   "cell_type": "code",
   "execution_count": 512,
   "metadata": {},
   "outputs": [
    {
     "data": {
      "text/plain": [
       "array([[ 2.33941290e-03,  2.65528459e-02,  2.04379785e-03,\n",
       "        -1.04750654e-02,  1.90064612e-01,  2.50097206e+00]])"
      ]
     },
     "execution_count": 512,
     "metadata": {},
     "output_type": "execute_result"
    }
   ],
   "source": [
    "simple_model.coef_"
   ]
  },
  {
   "cell_type": "code",
   "execution_count": 513,
   "metadata": {},
   "outputs": [
    {
     "name": "stderr",
     "output_type": "stream",
     "text": [
      "/home/przemyslaw/anaconda3/lib/python3.7/site-packages/sklearn/linear_model/stochastic_gradient.py:166: FutureWarning: max_iter and tol parameters have been added in SGDClassifier in 0.19. If both are left unset, they default to max_iter=5 and tol=None. If tol is not None, max_iter defaults to max_iter=1000. From 0.21, default max_iter will be 1000, and default tol will be 1e-3.\n",
      "  FutureWarning)\n"
     ]
    }
   ],
   "source": [
    "lime.fit_simple_model()"
   ]
  },
  {
   "cell_type": "code",
   "execution_count": 514,
   "metadata": {},
   "outputs": [
    {
     "data": {
      "text/html": [
       "<div>\n",
       "<style scoped>\n",
       "    .dataframe tbody tr th:only-of-type {\n",
       "        vertical-align: middle;\n",
       "    }\n",
       "\n",
       "    .dataframe tbody tr th {\n",
       "        vertical-align: top;\n",
       "    }\n",
       "\n",
       "    .dataframe thead th {\n",
       "        text-align: right;\n",
       "    }\n",
       "</style>\n",
       "<table border=\"1\" class=\"dataframe\">\n",
       "  <thead>\n",
       "    <tr style=\"text-align: right;\">\n",
       "      <th></th>\n",
       "      <th>Q5</th>\n",
       "      <th>Q25_2</th>\n",
       "      <th>Q26_2</th>\n",
       "      <th>hcm2017q24_met_online</th>\n",
       "      <th>w6_q9</th>\n",
       "      <th>w6_q24_length</th>\n",
       "    </tr>\n",
       "  </thead>\n",
       "  <tbody>\n",
       "    <tr>\n",
       "      <th>0</th>\n",
       "      <td>-1.0</td>\n",
       "      <td>-1.0</td>\n",
       "      <td>-1.0</td>\n",
       "      <td>0.0</td>\n",
       "      <td>75.0</td>\n",
       "      <td>109.0</td>\n",
       "    </tr>\n",
       "  </tbody>\n",
       "</table>\n",
       "</div>"
      ],
      "text/plain": [
       "    Q5  Q25_2  Q26_2  hcm2017q24_met_online  w6_q9  w6_q24_length\n",
       "0 -1.0   -1.0   -1.0                    0.0   75.0          109.0"
      ]
     },
     "execution_count": 514,
     "metadata": {},
     "output_type": "execute_result"
    }
   ],
   "source": [
    "random_person"
   ]
  },
  {
   "cell_type": "code",
   "execution_count": 515,
   "metadata": {},
   "outputs": [
    {
     "name": "stdout",
     "output_type": "stream",
     "text": [
      "['Q5', 'Q25_2', 'Q26_2', 'hcm2017q24_met_online', 'w6_q9', 'w6_q24_length']\n"
     ]
    },
    {
     "data": {
      "image/png": "[encoded data removed]",
      "text/plain": [
       "<Figure size 432x288 with 1 Axes>"
      ]
     },
     "metadata": {
      "needs_background": "light"
     },
     "output_type": "display_data"
    }
   ],
   "source": [
    "lime.plot_simple_model()"
   ]
  },
  {
   "cell_type": "code",
   "execution_count": 503,
   "metadata": {},
   "outputs": [
    {
     "data": {
      "text/plain": [
       "array([-4.68331888e-02,  2.84864919e-01, -4.74417904e-02, -2.20646202e-03,\n",
       "        2.55783571e+00, -1.24371446e+00])"
      ]
     },
     "execution_count": 503,
     "metadata": {},
     "output_type": "execute_result"
    }
   ],
   "source": [
    "lime.coef"
   ]
  },
  {
   "cell_type": "code",
   "execution_count": 488,
   "metadata": {},
   "outputs": [
    {
     "data": {
      "text/plain": [
       "['Q5', 'Q25_2', 'Q26_2', 'hcm2017q24_met_online', 'w6_q9', 'w6_q24_length']"
      ]
     },
     "execution_count": 488,
     "metadata": {},
     "output_type": "execute_result"
    }
   ],
   "source": [
    "lime.variables"
   ]
  },
  {
   "cell_type": "code",
   "execution_count": null,
   "metadata": {},
   "outputs": [],
   "source": []
  },
  {
   "cell_type": "code",
   "execution_count": null,
   "metadata": {},
   "outputs": [],
   "source": []
  }
 ],
 "metadata": {
  "kernelspec": {
   "display_name": "Python 3",
   "language": "python",
   "name": "python3"
  },
  "language_info": {
   "codemirror_mode": {
    "name": "ipython",
    "version": 3
   },
   "file_extension": ".py",
   "mimetype": "text/x-python",
   "name": "python",
   "nbconvert_exporter": "python",
   "pygments_lexer": "ipython3",
   "version": "3.7.1"
  }
 },
 "nbformat": 4,
 "nbformat_minor": 2
}
