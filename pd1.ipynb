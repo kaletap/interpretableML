{
 "cells": [
  {
   "cell_type": "markdown",
   "metadata": {},
   "source": [
    "# Przemysław Kaleta\n",
    "\n",
    "Our goal is to build a model predicting wheter given person is married based on a few features and then to visualize model decisions.\n",
    "\n",
    "Based on data from: https://data.stanford.edu/hcmst2017\n",
    "\n",
    "Interesting app:\n",
    "https://qz.com/quartzy/1551272/here-is-the-probability-you-will-break-up-with-your-partner/"
   ]
  },
  {
   "cell_type": "code",
   "execution_count": 387,
   "metadata": {},
   "outputs": [],
   "source": [
    "import pandas as pd\n",
    "import numpy as np\n",
    "import random\n",
    "import matplotlib.pyplot as plt\n",
    "from sklearn import preprocessing\n",
    "from sklearn.model_selection import train_test_split\n",
    "from sklearn.metrics import f1_score\n",
    "import xgboost as xgb\n",
    "from collections import defaultdict"
   ]
  },
  {
   "cell_type": "code",
   "execution_count": 67,
   "metadata": {},
   "outputs": [
    {
     "name": "stdout",
     "output_type": "stream",
     "text": [
      "3510\n"
     ]
    },
    {
     "data": {
      "text/html": [
       "<div>\n",
       "<style scoped>\n",
       "    .dataframe tbody tr th:only-of-type {\n",
       "        vertical-align: middle;\n",
       "    }\n",
       "\n",
       "    .dataframe tbody tr th {\n",
       "        vertical-align: top;\n",
       "    }\n",
       "\n",
       "    .dataframe thead th {\n",
       "        text-align: right;\n",
       "    }\n",
       "</style>\n",
       "<table border=\"1\" class=\"dataframe\">\n",
       "  <thead>\n",
       "    <tr style=\"text-align: right;\">\n",
       "      <th></th>\n",
       "      <th>CaseID</th>\n",
       "      <th>CASEID_NEW</th>\n",
       "      <th>qflag</th>\n",
       "      <th>weight1</th>\n",
       "      <th>weight1_freqwt</th>\n",
       "      <th>weight2</th>\n",
       "      <th>weight1a</th>\n",
       "      <th>weight1a_freqwt</th>\n",
       "      <th>weight_combo</th>\n",
       "      <th>weight_combo_freqwt</th>\n",
       "      <th>...</th>\n",
       "      <th>hcm2017q24_met_through_family</th>\n",
       "      <th>hcm2017q24_met_through_friend</th>\n",
       "      <th>hcm2017q24_met_through_as_nghbrs</th>\n",
       "      <th>hcm2017q24_met_as_through_cowork</th>\n",
       "      <th>w6_subject_race</th>\n",
       "      <th>interracial_5cat</th>\n",
       "      <th>partner_mother_yrsed</th>\n",
       "      <th>subject_mother_yrsed</th>\n",
       "      <th>partner_yrsed</th>\n",
       "      <th>subject_yrsed</th>\n",
       "    </tr>\n",
       "  </thead>\n",
       "  <tbody>\n",
       "    <tr>\n",
       "      <th>0</th>\n",
       "      <td>2</td>\n",
       "      <td>2014039</td>\n",
       "      <td>Qualified</td>\n",
       "      <td>NaN</td>\n",
       "      <td>NaN</td>\n",
       "      <td>0.8945</td>\n",
       "      <td>NaN</td>\n",
       "      <td>NaN</td>\n",
       "      <td>0.277188</td>\n",
       "      <td>19240.0</td>\n",
       "      <td>...</td>\n",
       "      <td>no</td>\n",
       "      <td>no</td>\n",
       "      <td>no</td>\n",
       "      <td>no</td>\n",
       "      <td>White</td>\n",
       "      <td>no</td>\n",
       "      <td>12.0</td>\n",
       "      <td>14.0</td>\n",
       "      <td>12.0</td>\n",
       "      <td>14.0</td>\n",
       "    </tr>\n",
       "    <tr>\n",
       "      <th>1</th>\n",
       "      <td>3</td>\n",
       "      <td>2019003</td>\n",
       "      <td>Qualified</td>\n",
       "      <td>0.9078</td>\n",
       "      <td>71115.0</td>\n",
       "      <td>NaN</td>\n",
       "      <td>0.9026</td>\n",
       "      <td>70707.0</td>\n",
       "      <td>1.020621</td>\n",
       "      <td>70841.0</td>\n",
       "      <td>...</td>\n",
       "      <td>no</td>\n",
       "      <td>no</td>\n",
       "      <td>no</td>\n",
       "      <td>yes</td>\n",
       "      <td>White</td>\n",
       "      <td>no</td>\n",
       "      <td>12.0</td>\n",
       "      <td>16.0</td>\n",
       "      <td>17.0</td>\n",
       "      <td>17.0</td>\n",
       "    </tr>\n",
       "    <tr>\n",
       "      <th>2</th>\n",
       "      <td>5</td>\n",
       "      <td>2145527</td>\n",
       "      <td>Qualified</td>\n",
       "      <td>0.7205</td>\n",
       "      <td>56442.0</td>\n",
       "      <td>NaN</td>\n",
       "      <td>0.7164</td>\n",
       "      <td>56121.0</td>\n",
       "      <td>0.810074</td>\n",
       "      <td>56227.0</td>\n",
       "      <td>...</td>\n",
       "      <td>no</td>\n",
       "      <td>no</td>\n",
       "      <td>no</td>\n",
       "      <td>no</td>\n",
       "      <td>White</td>\n",
       "      <td>no</td>\n",
       "      <td>9.0</td>\n",
       "      <td>7.5</td>\n",
       "      <td>14.0</td>\n",
       "      <td>17.0</td>\n",
       "    </tr>\n",
       "    <tr>\n",
       "      <th>3</th>\n",
       "      <td>6</td>\n",
       "      <td>2648857</td>\n",
       "      <td>Qualified</td>\n",
       "      <td>1.2597</td>\n",
       "      <td>98682.0</td>\n",
       "      <td>1.3507</td>\n",
       "      <td>1.2524</td>\n",
       "      <td>98110.0</td>\n",
       "      <td>0.418556</td>\n",
       "      <td>29052.0</td>\n",
       "      <td>...</td>\n",
       "      <td>no</td>\n",
       "      <td>no</td>\n",
       "      <td>no</td>\n",
       "      <td>no</td>\n",
       "      <td>White</td>\n",
       "      <td>no</td>\n",
       "      <td>16.0</td>\n",
       "      <td>12.0</td>\n",
       "      <td>12.0</td>\n",
       "      <td>12.0</td>\n",
       "    </tr>\n",
       "    <tr>\n",
       "      <th>4</th>\n",
       "      <td>7</td>\n",
       "      <td>2623465</td>\n",
       "      <td>Qualified</td>\n",
       "      <td>0.8686</td>\n",
       "      <td>68044.0</td>\n",
       "      <td>NaN</td>\n",
       "      <td>0.8636</td>\n",
       "      <td>67652.0</td>\n",
       "      <td>0.976522</td>\n",
       "      <td>67781.0</td>\n",
       "      <td>...</td>\n",
       "      <td>no</td>\n",
       "      <td>no</td>\n",
       "      <td>yes</td>\n",
       "      <td>no</td>\n",
       "      <td>White</td>\n",
       "      <td>no</td>\n",
       "      <td>14.0</td>\n",
       "      <td>17.0</td>\n",
       "      <td>16.0</td>\n",
       "      <td>16.0</td>\n",
       "    </tr>\n",
       "  </tbody>\n",
       "</table>\n",
       "<p>5 rows × 285 columns</p>\n",
       "</div>"
      ],
      "text/plain": [
       "   CaseID  CASEID_NEW      qflag  weight1  weight1_freqwt  weight2  weight1a  \\\n",
       "0       2     2014039  Qualified      NaN             NaN   0.8945       NaN   \n",
       "1       3     2019003  Qualified   0.9078         71115.0      NaN    0.9026   \n",
       "2       5     2145527  Qualified   0.7205         56442.0      NaN    0.7164   \n",
       "3       6     2648857  Qualified   1.2597         98682.0   1.3507    1.2524   \n",
       "4       7     2623465  Qualified   0.8686         68044.0      NaN    0.8636   \n",
       "\n",
       "   weight1a_freqwt  weight_combo  weight_combo_freqwt      ...       \\\n",
       "0              NaN      0.277188              19240.0      ...        \n",
       "1          70707.0      1.020621              70841.0      ...        \n",
       "2          56121.0      0.810074              56227.0      ...        \n",
       "3          98110.0      0.418556              29052.0      ...        \n",
       "4          67652.0      0.976522              67781.0      ...        \n",
       "\n",
       "   hcm2017q24_met_through_family hcm2017q24_met_through_friend  \\\n",
       "0                             no                            no   \n",
       "1                             no                            no   \n",
       "2                             no                            no   \n",
       "3                             no                            no   \n",
       "4                             no                            no   \n",
       "\n",
       "  hcm2017q24_met_through_as_nghbrs hcm2017q24_met_as_through_cowork  \\\n",
       "0                               no                               no   \n",
       "1                               no                              yes   \n",
       "2                               no                               no   \n",
       "3                               no                               no   \n",
       "4                              yes                               no   \n",
       "\n",
       "  w6_subject_race interracial_5cat partner_mother_yrsed subject_mother_yrsed  \\\n",
       "0           White               no                 12.0                 14.0   \n",
       "1           White               no                 12.0                 16.0   \n",
       "2           White               no                  9.0                  7.5   \n",
       "3           White               no                 16.0                 12.0   \n",
       "4           White               no                 14.0                 17.0   \n",
       "\n",
       "  partner_yrsed subject_yrsed  \n",
       "0          12.0          14.0  \n",
       "1          17.0          17.0  \n",
       "2          14.0          17.0  \n",
       "3          12.0          12.0  \n",
       "4          16.0          16.0  \n",
       "\n",
       "[5 rows x 285 columns]"
      ]
     },
     "execution_count": 67,
     "metadata": {},
     "output_type": "execute_result"
    }
   ],
   "source": [
    "data = pd.read_stata(\"hcmts.dta\")\n",
    "print(len(data))\n",
    "data.head()"
   ]
  },
  {
   "cell_type": "markdown",
   "metadata": {},
   "source": [
    "Explanations of variable names taken from:\n",
    "\n",
    "https://stacks.stanford.edu/file/druid:vt073cc9067/HCMST_2017_fresh_Codeboodk_v1.1a.pdf\n",
    "\n",
    "* Yes/no questions:\n",
    "    * **Q5** Is [Partner name] the same sex as you? \n",
    "    * **Q25_2** Did you and [Partner name] attend the same high school?\n",
    "    * **Q26_2** Did you and [Partner name] attend the same college or university?\n",
    "    * **hcm2017q24_met_online** Met online\n",
    "    \n",
    "* Quantitative questions:\n",
    "    * **w6_q9** partner age in 2017\n",
    "    * **w6_q24_length** length of q24 how met answer in characters"
   ]
  },
  {
   "cell_type": "markdown",
   "metadata": {},
   "source": [
    "## Selecting data"
   ]
  },
  {
   "cell_type": "code",
   "execution_count": 330,
   "metadata": {},
   "outputs": [
    {
     "data": {
      "text/plain": [
       "3510"
      ]
     },
     "execution_count": 330,
     "metadata": {},
     "output_type": "execute_result"
    }
   ],
   "source": [
    "binary_variables = [\"Q5\", \"Q25_2\", \"Q26_2\",  \"hcm2017q24_met_online\"]\n",
    "continuous_variables = [\"w6_q9\", \"w6_q24_length\"]\n",
    "predicted_variables = [\"S1\"]\n",
    "variables = binary_variables + continuous_variables + predicted_variables\n",
    "mydata = data.loc[data.S1.notna(), variables]\n",
    "len(mydata)"
   ]
  },
  {
   "cell_type": "code",
   "execution_count": 331,
   "metadata": {},
   "outputs": [
    {
     "data": {
      "text/html": [
       "<div>\n",
       "<style scoped>\n",
       "    .dataframe tbody tr th:only-of-type {\n",
       "        vertical-align: middle;\n",
       "    }\n",
       "\n",
       "    .dataframe tbody tr th {\n",
       "        vertical-align: top;\n",
       "    }\n",
       "\n",
       "    .dataframe thead th {\n",
       "        text-align: right;\n",
       "    }\n",
       "</style>\n",
       "<table border=\"1\" class=\"dataframe\">\n",
       "  <thead>\n",
       "    <tr style=\"text-align: right;\">\n",
       "      <th></th>\n",
       "      <th>Q5</th>\n",
       "      <th>Q25_2</th>\n",
       "      <th>Q26_2</th>\n",
       "      <th>hcm2017q24_met_online</th>\n",
       "      <th>w6_q9</th>\n",
       "      <th>w6_q24_length</th>\n",
       "      <th>S1</th>\n",
       "    </tr>\n",
       "  </thead>\n",
       "  <tbody>\n",
       "    <tr>\n",
       "      <th>0</th>\n",
       "      <td>NaN</td>\n",
       "      <td>Different High School</td>\n",
       "      <td>NaN</td>\n",
       "      <td>yes</td>\n",
       "      <td>26.0</td>\n",
       "      <td>232.0</td>\n",
       "      <td>No, I am not Married</td>\n",
       "    </tr>\n",
       "    <tr>\n",
       "      <th>1</th>\n",
       "      <td>NaN</td>\n",
       "      <td>NaN</td>\n",
       "      <td>NaN</td>\n",
       "      <td>no</td>\n",
       "      <td>52.0</td>\n",
       "      <td>213.0</td>\n",
       "      <td>Yes, I am Married</td>\n",
       "    </tr>\n",
       "    <tr>\n",
       "      <th>2</th>\n",
       "      <td>NaN</td>\n",
       "      <td>NaN</td>\n",
       "      <td>NaN</td>\n",
       "      <td>yes</td>\n",
       "      <td>45.0</td>\n",
       "      <td>87.0</td>\n",
       "      <td>Yes, I am Married</td>\n",
       "    </tr>\n",
       "    <tr>\n",
       "      <th>3</th>\n",
       "      <td>NaN</td>\n",
       "      <td>Different High School</td>\n",
       "      <td>NaN</td>\n",
       "      <td>yes</td>\n",
       "      <td>26.0</td>\n",
       "      <td>80.0</td>\n",
       "      <td>No, I am not Married</td>\n",
       "    </tr>\n",
       "    <tr>\n",
       "      <th>4</th>\n",
       "      <td>NaN</td>\n",
       "      <td>NaN</td>\n",
       "      <td>NaN</td>\n",
       "      <td>no</td>\n",
       "      <td>59.0</td>\n",
       "      <td>648.0</td>\n",
       "      <td>Yes, I am Married</td>\n",
       "    </tr>\n",
       "  </tbody>\n",
       "</table>\n",
       "</div>"
      ],
      "text/plain": [
       "    Q5                  Q25_2 Q26_2 hcm2017q24_met_online  w6_q9  \\\n",
       "0  NaN  Different High School   NaN                   yes   26.0   \n",
       "1  NaN                    NaN   NaN                    no   52.0   \n",
       "2  NaN                    NaN   NaN                   yes   45.0   \n",
       "3  NaN  Different High School   NaN                   yes   26.0   \n",
       "4  NaN                    NaN   NaN                    no   59.0   \n",
       "\n",
       "   w6_q24_length                    S1  \n",
       "0          232.0  No, I am not Married  \n",
       "1          213.0     Yes, I am Married  \n",
       "2           87.0     Yes, I am Married  \n",
       "3           80.0  No, I am not Married  \n",
       "4          648.0     Yes, I am Married  "
      ]
     },
     "execution_count": 331,
     "metadata": {},
     "output_type": "execute_result"
    }
   ],
   "source": [
    "mydata.head()"
   ]
  },
  {
   "cell_type": "markdown",
   "metadata": {},
   "source": [
    "Let's check how many of our variables are unknown. It seems to be a big problem here."
   ]
  },
  {
   "cell_type": "code",
   "execution_count": 332,
   "metadata": {},
   "outputs": [
    {
     "name": "stdout",
     "output_type": "stream",
     "text": [
      "<class 'pandas.core.frame.DataFrame'>\n",
      "Int64Index: 3510 entries, 0 to 3509\n",
      "Data columns (total 7 columns):\n",
      "Q5                       468 non-null category\n",
      "Q25_2                    538 non-null category\n",
      "Q26_2                    202 non-null category\n",
      "hcm2017q24_met_online    3394 non-null category\n",
      "w6_q9                    3374 non-null float64\n",
      "w6_q24_length            3394 non-null float32\n",
      "S1                       3510 non-null category\n",
      "dtypes: category(5), float32(1), float64(1)\n",
      "memory usage: 86.2 KB\n"
     ]
    }
   ],
   "source": [
    "mydata.info()"
   ]
  },
  {
   "cell_type": "markdown",
   "metadata": {},
   "source": [
    "## Model fitting"
   ]
  },
  {
   "cell_type": "code",
   "execution_count": 333,
   "metadata": {},
   "outputs": [],
   "source": [
    "# Dictionary with keys as columns of categorical variables \n",
    "# and values as functions which for a given code tell us what category it is\n",
    "name_from_code = defaultdict(lambda: lambda x: x)\n",
    "\n",
    "for column_name in binary_variables + predicted_variables:\n",
    "    \n",
    "    column = mydata[column_name].values\n",
    "    \n",
    "    def _name_from_code(x, col=column):\n",
    "        return col.from_codes([x], col.categories)[0]\n",
    "    \n",
    "    name_from_code[column_name] = _name_from_code\n",
    "    \n",
    "    mydata[column_name] = column.codes"
   ]
  },
  {
   "cell_type": "code",
   "execution_count": 334,
   "metadata": {},
   "outputs": [
    {
     "data": {
      "text/html": [
       "<div>\n",
       "<style scoped>\n",
       "    .dataframe tbody tr th:only-of-type {\n",
       "        vertical-align: middle;\n",
       "    }\n",
       "\n",
       "    .dataframe tbody tr th {\n",
       "        vertical-align: top;\n",
       "    }\n",
       "\n",
       "    .dataframe thead th {\n",
       "        text-align: right;\n",
       "    }\n",
       "</style>\n",
       "<table border=\"1\" class=\"dataframe\">\n",
       "  <thead>\n",
       "    <tr style=\"text-align: right;\">\n",
       "      <th></th>\n",
       "      <th>Q5</th>\n",
       "      <th>Q25_2</th>\n",
       "      <th>Q26_2</th>\n",
       "      <th>hcm2017q24_met_online</th>\n",
       "      <th>w6_q9</th>\n",
       "      <th>w6_q24_length</th>\n",
       "      <th>S1</th>\n",
       "    </tr>\n",
       "  </thead>\n",
       "  <tbody>\n",
       "    <tr>\n",
       "      <th>0</th>\n",
       "      <td>-1</td>\n",
       "      <td>2</td>\n",
       "      <td>-1</td>\n",
       "      <td>1</td>\n",
       "      <td>26.0</td>\n",
       "      <td>232.0</td>\n",
       "      <td>1</td>\n",
       "    </tr>\n",
       "    <tr>\n",
       "      <th>1</th>\n",
       "      <td>-1</td>\n",
       "      <td>-1</td>\n",
       "      <td>-1</td>\n",
       "      <td>0</td>\n",
       "      <td>52.0</td>\n",
       "      <td>213.0</td>\n",
       "      <td>0</td>\n",
       "    </tr>\n",
       "    <tr>\n",
       "      <th>2</th>\n",
       "      <td>-1</td>\n",
       "      <td>-1</td>\n",
       "      <td>-1</td>\n",
       "      <td>1</td>\n",
       "      <td>45.0</td>\n",
       "      <td>87.0</td>\n",
       "      <td>0</td>\n",
       "    </tr>\n",
       "    <tr>\n",
       "      <th>3</th>\n",
       "      <td>-1</td>\n",
       "      <td>2</td>\n",
       "      <td>-1</td>\n",
       "      <td>1</td>\n",
       "      <td>26.0</td>\n",
       "      <td>80.0</td>\n",
       "      <td>1</td>\n",
       "    </tr>\n",
       "    <tr>\n",
       "      <th>4</th>\n",
       "      <td>-1</td>\n",
       "      <td>-1</td>\n",
       "      <td>-1</td>\n",
       "      <td>0</td>\n",
       "      <td>59.0</td>\n",
       "      <td>648.0</td>\n",
       "      <td>0</td>\n",
       "    </tr>\n",
       "  </tbody>\n",
       "</table>\n",
       "</div>"
      ],
      "text/plain": [
       "   Q5  Q25_2  Q26_2  hcm2017q24_met_online  w6_q9  w6_q24_length  S1\n",
       "0  -1      2     -1                      1   26.0          232.0   1\n",
       "1  -1     -1     -1                      0   52.0          213.0   0\n",
       "2  -1     -1     -1                      1   45.0           87.0   0\n",
       "3  -1      2     -1                      1   26.0           80.0   1\n",
       "4  -1     -1     -1                      0   59.0          648.0   0"
      ]
     },
     "execution_count": 334,
     "metadata": {},
     "output_type": "execute_result"
    }
   ],
   "source": [
    "mydata.head()"
   ]
  },
  {
   "cell_type": "code",
   "execution_count": 335,
   "metadata": {},
   "outputs": [],
   "source": [
    "X, y = mydata.drop(\"S1\", axis=1), mydata[\"S1\"]\n",
    "X_train, X_test, y_train, y_test = train_test_split(X, y, test_size=0.2, random_state=42)"
   ]
  },
  {
   "cell_type": "code",
   "execution_count": 336,
   "metadata": {},
   "outputs": [],
   "source": [
    "xgb_model = xgb.XGBClassifier(objective ='binary:logistic', colsample_bytree = 0.3, learning_rate = 0.1,\n",
    "                max_depth = 5, alpha = 0, n_estimators = 100)"
   ]
  },
  {
   "cell_type": "code",
   "execution_count": 337,
   "metadata": {},
   "outputs": [
    {
     "data": {
      "text/plain": [
       "XGBClassifier(alpha=0, base_score=0.5, booster='gbtree', colsample_bylevel=1,\n",
       "       colsample_bytree=0.3, gamma=0, learning_rate=0.1, max_delta_step=0,\n",
       "       max_depth=5, min_child_weight=1, missing=None, n_estimators=100,\n",
       "       n_jobs=1, nthread=None, objective='binary:logistic', random_state=0,\n",
       "       reg_alpha=0, reg_lambda=1, scale_pos_weight=1, seed=None,\n",
       "       silent=True, subsample=1)"
      ]
     },
     "execution_count": 337,
     "metadata": {},
     "output_type": "execute_result"
    }
   ],
   "source": [
    "xgb_model.fit(X_train, y_train)"
   ]
  },
  {
   "cell_type": "code",
   "execution_count": 338,
   "metadata": {},
   "outputs": [],
   "source": [
    "y_pred = xgb_model.predict(X_test)"
   ]
  },
  {
   "cell_type": "code",
   "execution_count": 339,
   "metadata": {},
   "outputs": [],
   "source": [
    "y_pred_train = xgb_model.predict(X_train)"
   ]
  },
  {
   "cell_type": "code",
   "execution_count": 340,
   "metadata": {},
   "outputs": [],
   "source": [
    "def test_classifier(y_true, y_pred):\n",
    "    n = len(y_true)\n",
    "    print(f\"Positive/negative percentages in population: {sum(y_true) / n} / {sum(y_true==0) / n}\")\n",
    "    print(f\"Accuracy {sum(y_true == y_pred) / n}\")\n",
    "    print(f\"F1 score: {f1_score(y_true, y_pred)}\")"
   ]
  },
  {
   "cell_type": "code",
   "execution_count": 341,
   "metadata": {},
   "outputs": [
    {
     "name": "stdout",
     "output_type": "stream",
     "text": [
      "Positive/negative percentages in population: 0.405982905982906 / 0.594017094017094\n",
      "Accuracy 0.8425925925925926\n",
      "F1 score: 0.779\n"
     ]
    }
   ],
   "source": [
    "test_classifier(y_train, y_pred_train)"
   ]
  },
  {
   "cell_type": "code",
   "execution_count": 342,
   "metadata": {},
   "outputs": [
    {
     "name": "stdout",
     "output_type": "stream",
     "text": [
      "Positive/negative percentages in population: 0.405982905982906 / 0.594017094017094\n",
      "Accuracy 0.8005698005698005\n",
      "F1 score: 0.7107438016528925\n"
     ]
    }
   ],
   "source": [
    "test_classifier(y_test, y_pred)"
   ]
  },
  {
   "cell_type": "markdown",
   "metadata": {},
   "source": [
    "## Ceteris Paribus profile"
   ]
  },
  {
   "cell_type": "markdown",
   "metadata": {},
   "source": [
    "Let's try to make some plots showing how model prediction would change for different values of last two variables (\"w6_q9\" - partner age and \"w6_q24_length\" length of answer to the \"how met\" question.\n",
    "\n",
    "First, we will take some random person from our dataset."
   ]
  },
  {
   "cell_type": "code",
   "execution_count": 366,
   "metadata": {},
   "outputs": [],
   "source": [
    "random.seed(123)\n",
    "random_person = X_test.iloc[random.choice(range(0, len(X_test)))]\n",
    "random_person = pd.DataFrame([random_person.values], columns=mydata.columns[:-1])"
   ]
  },
  {
   "cell_type": "code",
   "execution_count": 367,
   "metadata": {},
   "outputs": [
    {
     "data": {
      "text/html": [
       "<div>\n",
       "<style scoped>\n",
       "    .dataframe tbody tr th:only-of-type {\n",
       "        vertical-align: middle;\n",
       "    }\n",
       "\n",
       "    .dataframe tbody tr th {\n",
       "        vertical-align: top;\n",
       "    }\n",
       "\n",
       "    .dataframe thead th {\n",
       "        text-align: right;\n",
       "    }\n",
       "</style>\n",
       "<table border=\"1\" class=\"dataframe\">\n",
       "  <thead>\n",
       "    <tr style=\"text-align: right;\">\n",
       "      <th></th>\n",
       "      <th>Q5</th>\n",
       "      <th>Q25_2</th>\n",
       "      <th>Q26_2</th>\n",
       "      <th>hcm2017q24_met_online</th>\n",
       "      <th>w6_q9</th>\n",
       "      <th>w6_q24_length</th>\n",
       "    </tr>\n",
       "  </thead>\n",
       "  <tbody>\n",
       "    <tr>\n",
       "      <th>0</th>\n",
       "      <td>-1.0</td>\n",
       "      <td>2.0</td>\n",
       "      <td>1.0</td>\n",
       "      <td>0.0</td>\n",
       "      <td>26.0</td>\n",
       "      <td>122.0</td>\n",
       "    </tr>\n",
       "  </tbody>\n",
       "</table>\n",
       "</div>"
      ],
      "text/plain": [
       "    Q5  Q25_2  Q26_2  hcm2017q24_met_online  w6_q9  w6_q24_length\n",
       "0 -1.0    2.0    1.0                    0.0   26.0          122.0"
      ]
     },
     "execution_count": 367,
     "metadata": {},
     "output_type": "execute_result"
    }
   ],
   "source": [
    "random_person"
   ]
  },
  {
   "cell_type": "code",
   "execution_count": 345,
   "metadata": {},
   "outputs": [
    {
     "name": "stdout",
     "output_type": "stream",
     "text": [
      "Q5 nan\n",
      "Q25_2 Different High School\n",
      "Q26_2 Did not attend same college or university\n",
      "hcm2017q24_met_online no\n",
      "w6_q9 26.0\n",
      "w6_q24_length 122.0\n"
     ]
    }
   ],
   "source": [
    "for colname, code in zip(random_person.columns, random_person.iloc[0]):\n",
    "    print(colname, name_from_code[colname](code))"
   ]
  },
  {
   "cell_type": "code",
   "execution_count": 346,
   "metadata": {},
   "outputs": [
    {
     "data": {
      "text/plain": [
       "(array([1], dtype=int8), array([[0.01540726, 0.98459274]], dtype=float32))"
      ]
     },
     "execution_count": 346,
     "metadata": {},
     "output_type": "execute_result"
    }
   ],
   "source": [
    "xgb_model.predict(random_person), xgb_model.predict_proba(random_person)"
   ]
  },
  {
   "cell_type": "code",
   "execution_count": 383,
   "metadata": {},
   "outputs": [],
   "source": [
    "def get_proba(person, colname, colvalue):\n",
    "    if colname not in X_train.columns:\n",
    "        raise Exception(\"Wrong column name\")\n",
    "    person[colname] = colvalue\n",
    "    return xgb_model.predict_proba(person)[0][0]"
   ]
  },
  {
   "cell_type": "markdown",
   "metadata": {},
   "source": [
    "Let's check what is the range of our quantitative variables."
   ]
  },
  {
   "cell_type": "code",
   "execution_count": 384,
   "metadata": {},
   "outputs": [
    {
     "data": {
      "text/html": [
       "<div>\n",
       "<style scoped>\n",
       "    .dataframe tbody tr th:only-of-type {\n",
       "        vertical-align: middle;\n",
       "    }\n",
       "\n",
       "    .dataframe tbody tr th {\n",
       "        vertical-align: top;\n",
       "    }\n",
       "\n",
       "    .dataframe thead th {\n",
       "        text-align: right;\n",
       "    }\n",
       "</style>\n",
       "<table border=\"1\" class=\"dataframe\">\n",
       "  <thead>\n",
       "    <tr style=\"text-align: right;\">\n",
       "      <th></th>\n",
       "      <th>w6_q9</th>\n",
       "      <th>w6_q24_length</th>\n",
       "    </tr>\n",
       "  </thead>\n",
       "  <tbody>\n",
       "    <tr>\n",
       "      <th>count</th>\n",
       "      <td>3374.000000</td>\n",
       "      <td>3394.000000</td>\n",
       "    </tr>\n",
       "    <tr>\n",
       "      <th>mean</th>\n",
       "      <td>48.777119</td>\n",
       "      <td>182.854446</td>\n",
       "    </tr>\n",
       "    <tr>\n",
       "      <th>std</th>\n",
       "      <td>17.119645</td>\n",
       "      <td>236.993225</td>\n",
       "    </tr>\n",
       "    <tr>\n",
       "      <th>min</th>\n",
       "      <td>-1.000000</td>\n",
       "      <td>0.000000</td>\n",
       "    </tr>\n",
       "    <tr>\n",
       "      <th>25%</th>\n",
       "      <td>34.000000</td>\n",
       "      <td>54.000000</td>\n",
       "    </tr>\n",
       "    <tr>\n",
       "      <th>50%</th>\n",
       "      <td>50.000000</td>\n",
       "      <td>124.000000</td>\n",
       "    </tr>\n",
       "    <tr>\n",
       "      <th>75%</th>\n",
       "      <td>62.000000</td>\n",
       "      <td>222.750000</td>\n",
       "    </tr>\n",
       "    <tr>\n",
       "      <th>max</th>\n",
       "      <td>95.000000</td>\n",
       "      <td>3855.000000</td>\n",
       "    </tr>\n",
       "  </tbody>\n",
       "</table>\n",
       "</div>"
      ],
      "text/plain": [
       "             w6_q9  w6_q24_length\n",
       "count  3374.000000    3394.000000\n",
       "mean     48.777119     182.854446\n",
       "std      17.119645     236.993225\n",
       "min      -1.000000       0.000000\n",
       "25%      34.000000      54.000000\n",
       "50%      50.000000     124.000000\n",
       "75%      62.000000     222.750000\n",
       "max      95.000000    3855.000000"
      ]
     },
     "execution_count": 384,
     "metadata": {},
     "output_type": "execute_result"
    }
   ],
   "source": [
    "mydata[continuous_variables].describe()"
   ]
  },
  {
   "cell_type": "code",
   "execution_count": 385,
   "metadata": {},
   "outputs": [],
   "source": [
    "age_values = range(18, 96)\n",
    "length_values = range(0, 300)"
   ]
  },
  {
   "cell_type": "code",
   "execution_count": 386,
   "metadata": {},
   "outputs": [],
   "source": [
    "age_proba = [get_proba(random_person, \"w6_q9\", age) for age in age_values]\n",
    "length_proba = [get_proba(random_person, \"w6_q24_length\", length) for length in length_values]"
   ]
  },
  {
   "cell_type": "code",
   "execution_count": 390,
   "metadata": {},
   "outputs": [
    {
     "data": {
      "text/plain": [
       "Text(0, 0.5, 'Marriage probability')"
      ]
     },
     "execution_count": 390,
     "metadata": {},
     "output_type": "execute_result"
    },
    {
     "data": {
      "image/png": "[encoded data removed]",
      "text/plain": [
       "<Figure size 432x288 with 1 Axes>"
      ]
     },
     "metadata": {
      "needs_background": "light"
     },
     "output_type": "display_data"
    }
   ],
   "source": [
    "plt.plot(age_values, age_proba)\n",
    "plt.xlabel(\"Age\")\n",
    "plt.ylabel(\"Marriage probability\")"
   ]
  },
  {
   "cell_type": "code",
   "execution_count": 391,
   "metadata": {},
   "outputs": [
    {
     "data": {
      "text/plain": [
       "Text(0, 0.5, 'Marriage probability')"
      ]
     },
     "execution_count": 391,
     "metadata": {},
     "output_type": "execute_result"
    },
    {
     "data": {
      "image/png": "[encoded data removed]",
      "text/plain": [
       "<Figure size 432x288 with 1 Axes>"
      ]
     },
     "metadata": {
      "needs_background": "light"
     },
     "output_type": "display_data"
    }
   ],
   "source": [
    "plt.plot(length_values, length_proba)\n",
    "plt.xlabel(\"Description length\")\n",
    "plt.ylabel(\"Marriage probability\")"
   ]
  }
 ],
 "metadata": {
  "kernelspec": {
   "display_name": "Python 3",
   "language": "python",
   "name": "python3"
  },
  "language_info": {
   "codemirror_mode": {
    "name": "ipython",
    "version": 3
   },
   "file_extension": ".py",
   "mimetype": "text/x-python",
   "name": "python",
   "nbconvert_exporter": "python",
   "pygments_lexer": "ipython3",
   "version": "3.7.1"
  }
 },
 "nbformat": 4,
 "nbformat_minor": 2
}
