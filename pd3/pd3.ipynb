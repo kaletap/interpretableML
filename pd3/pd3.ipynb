{
 "cells": [
  {
   "cell_type": "markdown",
   "metadata": {},
   "source": [
    "# Przemysław Kaleta\n",
    "Data: https://data.stanford.edu/hcmst2017"
   ]
  },
  {
   "cell_type": "code",
   "execution_count": 1,
   "metadata": {},
   "outputs": [],
   "source": [
    "import pandas as pd\n",
    "import numpy as np\n",
    "import random\n",
    "import matplotlib.pyplot as plt\n",
    "\n",
    "from sklearn import preprocessing\n",
    "from sklearn.model_selection import train_test_split\n",
    "from sklearn.metrics import f1_score\n",
    "\n",
    "import xgboost as xgb\n",
    "\n",
    "from collections import defaultdict"
   ]
  },
  {
   "cell_type": "code",
   "execution_count": 2,
   "metadata": {},
   "outputs": [],
   "source": [
    "data = pd.read_stata(\"hcmts.dta\")"
   ]
  },
  {
   "cell_type": "markdown",
   "metadata": {},
   "source": [
    "Explanations of variable names taken from:\n",
    "\n",
    "https://stacks.stanford.edu/file/druid:vt073cc9067/HCMST_2017_fresh_Codeboodk_v1.1a.pdf\n",
    "\n",
    "* Yes/no questions:\n",
    "    * **Q5** Is [Partner name] the same sex as you? \n",
    "    * **Q25_2** Did you and [Partner name] attend the same high school?\n",
    "    * **Q26_2** Did you and [Partner name] attend the same college or university?\n",
    "    * **hcm2017q24_met_online** Met online\n",
    "    \n",
    "* Quantitative questions:\n",
    "    * **w6_q9** partner age in 2017\n",
    "    * **w6_q24_length** length of q24 how met answer in characters"
   ]
  },
  {
   "cell_type": "code",
   "execution_count": 3,
   "metadata": {},
   "outputs": [],
   "source": [
    "binary_variables = [\"Q5\", \"Q25_2\", \"Q26_2\",  \"hcm2017q24_met_online\"]\n",
    "continuous_variables = [\"w6_q9\", \"w6_q24_length\"]\n",
    "predicted_variables = [\"S1\"]\n",
    "variables = binary_variables + continuous_variables + predicted_variables\n",
    "mydata = data.loc[data.S1.notna(), variables]"
   ]
  },
  {
   "cell_type": "markdown",
   "metadata": {},
   "source": [
    "## Model"
   ]
  },
  {
   "cell_type": "code",
   "execution_count": 4,
   "metadata": {},
   "outputs": [],
   "source": [
    "# Dictionary with keys as columns of categorical variables \n",
    "# and values as functions which for a given code tell us what category it is\n",
    "name_from_code = defaultdict(lambda: lambda x: x)\n",
    "\n",
    "# usage: name_from_code[\"column_name\"](code)\n",
    "# If column name is not in binary variables name_from_code[\"column_name\"] is an identity function.\n",
    "\n",
    "for column_name in binary_variables + predicted_variables:\n",
    "    \n",
    "    column = mydata[column_name].values\n",
    "    \n",
    "    def _name_from_code(x, col=column):\n",
    "        return col.from_codes([x], col.categories)[0]\n",
    "    \n",
    "    name_from_code[column_name] = _name_from_code\n",
    "    \n",
    "    mydata[column_name] = column.codes"
   ]
  },
  {
   "cell_type": "code",
   "execution_count": 5,
   "metadata": {},
   "outputs": [
    {
     "name": "stdout",
     "output_type": "stream",
     "text": [
      "Positive/negative percentages in population: 0.405982905982906 / 0.594017094017094\n",
      "Accuracy 0.8076923076923077\n",
      "F1 score: 0.7283702213279677\n"
     ]
    }
   ],
   "source": [
    "X, y = mydata.drop(\"S1\", axis=1), mydata[\"S1\"]\n",
    "X_train, X_test, y_train, y_test = train_test_split(X, y, test_size=0.2, random_state=42)\n",
    "\n",
    "xgb_model = xgb.XGBClassifier(objective ='binary:logistic', colsample_bytree = 0.3, learning_rate = 0.35,\n",
    "                max_depth = 5, alpha = 0, n_estimators = 100)\n",
    "xgb_model.fit(X_train, y_train)\n",
    "\n",
    "y_pred = xgb_model.predict(X_test)\n",
    "y_pred_train = xgb_model.predict(X_train)\n",
    "\n",
    "def test_classifier(y_true, y_pred):\n",
    "    n = len(y_true)\n",
    "    print(f\"Positive/negative percentages in population: {sum(y_true) / n} / {sum(y_true == 0) / n}\")\n",
    "    print(f\"Accuracy {sum(y_true == y_pred) / n}\")\n",
    "    print(f\"F1 score: {f1_score(y_true, y_pred)}\")\n",
    "    \n",
    "test_classifier(y_test, y_pred)"
   ]
  },
  {
   "cell_type": "markdown",
   "metadata": {},
   "source": [
    "## Zmiana w średniej odpowiedzi modelu"
   ]
  },
  {
   "cell_type": "markdown",
   "metadata": {},
   "source": [
    "Wylosujemy jakąś osobę z populacji i dla niej zbadamy jak jej kolejne cechy wpływały na odpowiedź modelu. Warto najpierw zauważyć, że osoba ta ma 97% szans według modelu na bycie w związku małżeńskim."
   ]
  },
  {
   "cell_type": "code",
   "execution_count": 113,
   "metadata": {},
   "outputs": [],
   "source": [
    "colnames = X_train.columns\n",
    "names_explained_list = [\"same_sex\", \"high_school\", \"university\", \"met_online\", \"partner_age\", \"w6_q24_length\"]\n",
    "names_explained = {colname: colname_explained for colname, colname_explained in zip(colnames, names_explained_list)}"
   ]
  },
  {
   "cell_type": "code",
   "execution_count": 89,
   "metadata": {},
   "outputs": [],
   "source": [
    "column_order = [\"Q5\", \"Q25_2\", \"Q26_2\", \"hcm2017q24_met_online\", \"w6_q9\", \"w6_q24_length\"]"
   ]
  },
  {
   "cell_type": "code",
   "execution_count": 96,
   "metadata": {},
   "outputs": [],
   "source": [
    "class AttributionPlotter:\n",
    "    def __init__(self, model, data, verbose=False):\n",
    "        self.model = model\n",
    "        self.data = data\n",
    "        self.verbose = verbose\n",
    "\n",
    "    def get_mean_proba(self, data_subset):\n",
    "        predictions = self.model.predict_proba(data_subset.loc[:, self.data.columns])\n",
    "        return np.mean(predictions[:, 0])\n",
    "    \n",
    "    def _get_data_subset(self, person, i):\n",
    "       #\"\"\"Returns subset of X for which first i column of X are the same as first i columns of person\"\"\"\n",
    "        match = self._X.iloc[:, 0:(i+1)].values == person.iloc[:, 0:(i+1)].values\n",
    "        indexes = np.apply_along_axis(all, 1, match)\n",
    "        if self.verbose:\n",
    "            print(f\"For first {i+1} columns got {np.sum(indexes)} observations\")\n",
    "        return self._X[indexes]\n",
    "\n",
    "    def _get_attribution_probas(self, column_order):\n",
    "        \n",
    "        predicted_probas = [self.get_mean_proba(self._X)]\n",
    "        for i in range(len(column_order), ):\n",
    "            proba = self.get_mean_proba(self._get_data_subset(self._person, i))\n",
    "            predicted_probas.append(proba)\n",
    "        return predicted_probas\n",
    "\n",
    "    def plot_attributions(self, person, column_order):\n",
    "        import waterfall_chart\n",
    "        self._X = self.data.copy()[column_order]\n",
    "        self._person = person.copy()[column_order]\n",
    "        probas = self._get_attribution_probas(column_order)\n",
    "        if(self.verbose):\n",
    "            print(probas)\n",
    "        waterfall_chart.plot([\"Intercept\"] + [names_explained[col] for col in column_order], np.concatenate([[probas[0]], np.ediff1d(probas)]),\n",
    "                            rotation_value=50,\n",
    "                            formatting='{:,.2f}')"
   ]
  },
  {
   "cell_type": "code",
   "execution_count": 100,
   "metadata": {},
   "outputs": [],
   "source": [
    "attributionPlotter = AttributionPlotter(xgb_model, pd.concat([X_train, X_test]), verbose=True)"
   ]
  },
  {
   "cell_type": "markdown",
   "metadata": {},
   "source": [
    "#### Osoba 1 "
   ]
  },
  {
   "cell_type": "code",
   "execution_count": 114,
   "metadata": {},
   "outputs": [
    {
     "name": "stdout",
     "output_type": "stream",
     "text": [
      "    Q5  Q25_2  Q26_2  hcm2017q24_met_online  w6_q9  w6_q24_length\n",
      "0 -1.0   -1.0   -1.0                    0.0   70.0          158.0\n",
      "Predicted probabilities: [[0.97045314 0.02954684]]\n",
      "Q5 nan\n",
      "Q25_2 nan\n",
      "Q26_2 nan\n",
      "hcm2017q24_met_online no\n",
      "w6_q9 70.0\n",
      "w6_q24_length 158.0\n",
      "S1 - prediction Index(['Yes, I am Married'], dtype='object')\n"
     ]
    }
   ],
   "source": [
    "random.seed(1234)\n",
    "random_person = X_test.iloc[random.choice(range(0, len(X_test)))]\n",
    "random_person = pd.DataFrame([random_person.values], columns=X_train.columns)\n",
    "print(random_person)\n",
    "print(\"Predicted probabilities:\", xgb_model.predict_proba(random_person))\n",
    "for colname, code in zip(random_person.columns, random_person.iloc[0]):\n",
    "    print(colname, name_from_code[colname](code))\n",
    "married = xgb_model.predict(random_person)\n",
    "print(\"S1 - prediction\", name_from_code[\"S1\"](married))"
   ]
  },
  {
   "cell_type": "code",
   "execution_count": 101,
   "metadata": {},
   "outputs": [
    {
     "name": "stdout",
     "output_type": "stream",
     "text": [
      "For first 1 columns got 3042 observations\n",
      "For first 2 columns got 2504 observations\n",
      "For first 3 columns got 2504 observations\n",
      "For first 4 columns got 2174 observations\n",
      "For first 5 columns got 42 observations\n",
      "For first 6 columns got 1 observations\n",
      "[0.59809494, 0.61380106, 0.74502605, 0.74502605, 0.80424875, 0.9638988, 0.97045314]\n"
     ]
    },
    {
     "data": {
      "image/png": "[encoded data removed]",
      "text/plain": [
       "<Figure size 432x288 with 1 Axes>"
      ]
     },
     "metadata": {
      "needs_background": "light"
     },
     "output_type": "display_data"
    }
   ],
   "source": [
    "attributionPlotter.plot_attributions(random_person, column_order)"
   ]
  },
  {
   "cell_type": "code",
   "execution_count": 102,
   "metadata": {},
   "outputs": [],
   "source": [
    "random_column_order = random.sample(column_order, len(column_order))"
   ]
  },
  {
   "cell_type": "markdown",
   "metadata": {},
   "source": [
    "W poniższym wykresie uwidacznia się problem dla zmiennych ciągłych: może nie być wcale obserwacji o dokładnie takich samych wartościach zmiennej ciagłej, albo może ich byc bardzo mało. Żeby otrzymać bardziej interesujące wyniki warto umieszczać zmienne kategoryczne na początku, albo dopuszczać wartości z pewnych przedziałów dla zmiennych ciągłych.\n",
    "\n",
    "Na poniższym rysunku możemy być zadowoleni z faktu, że wiek parnera okazał się istotnym czynnikiem - jeżeli w wieku 70 lat ma się partnera, to raczej jest to małżonek."
   ]
  },
  {
   "cell_type": "code",
   "execution_count": 104,
   "metadata": {},
   "outputs": [
    {
     "name": "stdout",
     "output_type": "stream",
     "text": [
      "For first 1 columns got 3042 observations\n",
      "For first 2 columns got 10 observations\n",
      "For first 3 columns got 1 observations\n",
      "For first 4 columns got 1 observations\n",
      "For first 5 columns got 1 observations\n",
      "For first 6 columns got 1 observations\n",
      "[0.59809494, 0.61380106, 0.6552078, 0.97045314, 0.97045314, 0.97045314, 0.97045314]\n"
     ]
    },
    {
     "data": {
      "image/png": "[encoded data removed]",
      "text/plain": [
       "<Figure size 432x288 with 1 Axes>"
      ]
     },
     "metadata": {
      "needs_background": "light"
     },
     "output_type": "display_data"
    }
   ],
   "source": [
    "attributionPlotter.plot_attributions(random_person, random_column_order)"
   ]
  },
  {
   "cell_type": "markdown",
   "metadata": {},
   "source": [
    "#### Osoba 2\n",
    "Zobaczmy jeszcze wyniki dla innej losowej osoby."
   ]
  },
  {
   "cell_type": "code",
   "execution_count": 109,
   "metadata": {},
   "outputs": [
    {
     "name": "stdout",
     "output_type": "stream",
     "text": [
      "    Q5  Q25_2  Q26_2  hcm2017q24_met_online  w6_q9  w6_q24_length\n",
      "0 -1.0   -1.0   -1.0                    0.0   29.0          268.0\n",
      "Predicted probabilities: [[0.73785603 0.26214394]]\n",
      "same_sex nan\n",
      "high_school nan\n",
      "university nan\n",
      "met_online no\n",
      "partner_age 29.0\n",
      "w6_q24_length 268.0\n",
      "S1 - prediction Index(['Yes, I am Married'], dtype='object')\n"
     ]
    }
   ],
   "source": [
    "random.seed(99)\n",
    "random_person = X_test.iloc[random.choice(range(0, len(X_test)))]\n",
    "random_person = pd.DataFrame([random_person.values], columns=X_train.columns)\n",
    "print(random_person)\n",
    "print(\"Predicted probabilities:\", xgb_model.predict_proba(random_person))\n",
    "for colname, code in zip(random_person.columns, random_person.iloc[0]):\n",
    "    print(names_explained[colname], name_from_code[colname](code))\n",
    "married = xgb_model.predict(random_person)\n",
    "print(\"S1 - prediction\", name_from_code[\"S1\"](married))"
   ]
  },
  {
   "cell_type": "code",
   "execution_count": 110,
   "metadata": {},
   "outputs": [
    {
     "name": "stdout",
     "output_type": "stream",
     "text": [
      "For first 1 columns got 3042 observations\n",
      "For first 2 columns got 2504 observations\n",
      "For first 3 columns got 2504 observations\n",
      "For first 4 columns got 2174 observations\n",
      "For first 5 columns got 42 observations\n",
      "For first 6 columns got 1 observations\n",
      "[0.59809494, 0.61380106, 0.74502605, 0.74502605, 0.80424875, 0.6401839, 0.73785603]\n"
     ]
    },
    {
     "data": {
      "image/png": "[encoded data removed]",
      "text/plain": [
       "<Figure size 432x288 with 1 Axes>"
      ]
     },
     "metadata": {
      "needs_background": "light"
     },
     "output_type": "display_data"
    }
   ],
   "source": [
    "attributionPlotter.plot_attributions(random_person, column_order)"
   ]
  },
  {
   "cell_type": "code",
   "execution_count": 111,
   "metadata": {},
   "outputs": [
    {
     "data": {
      "text/plain": [
       "['hcm2017q24_met_online', 'Q25_2', 'w6_q9', 'Q5', 'Q26_2', 'w6_q24_length']"
      ]
     },
     "execution_count": 111,
     "metadata": {},
     "output_type": "execute_result"
    }
   ],
   "source": [
    "random_column_order = random.sample(column_order, len(column_order))\n",
    "random_column_order"
   ]
  },
  {
   "cell_type": "markdown",
   "metadata": {},
   "source": [
    "Wyniki dla innej permutacji kolum sa podobne, nie widzimy ciekawych zależności między zmiennymi. Dobrze, że wiek partnera (29) miał negatywny wpływ na prawodpodobieństwo, ale nie wiem czy to dobrze, że zmienne które były NaNami podnosza czasem prawdopodobieństwo bycia w związku małżeńskim."
   ]
  },
  {
   "cell_type": "code",
   "execution_count": 112,
   "metadata": {},
   "outputs": [
    {
     "name": "stdout",
     "output_type": "stream",
     "text": [
      "For first 1 columns got 2992 observations\n",
      "For first 2 columns got 2527 observations\n",
      "For first 3 columns got 53 observations\n",
      "For first 4 columns got 42 observations\n",
      "For first 5 columns got 42 observations\n",
      "For first 6 columns got 1 observations\n",
      "[0.59809494, 0.6532294, 0.7727943, 0.5981224, 0.6401839, 0.6401839, 0.73785603]\n"
     ]
    },
    {
     "data": {
      "image/png": "[encoded data removed]",
      "text/plain": [
       "<Figure size 432x288 with 1 Axes>"
      ]
     },
     "metadata": {
      "needs_background": "light"
     },
     "output_type": "display_data"
    }
   ],
   "source": [
    "attributionPlotter.plot_attributions(random_person, random_column_order)"
   ]
  },
  {
   "cell_type": "markdown",
   "metadata": {},
   "source": [
    "#### Osoba 3\n",
    "Na poniższym wykresie możemy zauważyć jak fakt poznania się online oraz bycie w związku z osoba tej samej płci zmniejsza szanse na bycie małżeństwem."
   ]
  },
  {
   "cell_type": "code",
   "execution_count": 122,
   "metadata": {},
   "outputs": [
    {
     "name": "stdout",
     "output_type": "stream",
     "text": [
      "    Q5  Q25_2  Q26_2  hcm2017q24_met_online  w6_q9  w6_q24_length\n",
      "0  0.0   -1.0   -1.0                    1.0   41.0          124.0\n",
      "Predicted probabilities: [[0.36568218 0.6343178 ]]\n",
      "same_sex Yes, we are a same-sex couple\n",
      "high_school nan\n",
      "university nan\n",
      "met_online yes\n",
      "partner_age 41.0\n",
      "w6_q24_length 124.0\n",
      "S1 - prediction Index(['No, I am not Married'], dtype='object')\n"
     ]
    }
   ],
   "source": [
    "X_gay = X_test.loc[X_test[\"Q5\"] == 0]\n",
    "random_person = X_gay.iloc[random.choice(range(0, len(X_gay)))]\n",
    "random_person = pd.DataFrame([random_person.values], columns=X_train.columns)\n",
    "print(random_person)\n",
    "print(\"Predicted probabilities:\", xgb_model.predict_proba(random_person))\n",
    "for colname, code in zip(random_person.columns, random_person.iloc[0]):\n",
    "    print(names_explained[colname], name_from_code[colname](code))\n",
    "married = xgb_model.predict(random_person)\n",
    "print(\"S1 - prediction\", name_from_code[\"S1\"](married))"
   ]
  },
  {
   "cell_type": "code",
   "execution_count": 123,
   "metadata": {},
   "outputs": [
    {
     "name": "stdout",
     "output_type": "stream",
     "text": [
      "For first 1 columns got 402 observations\n",
      "For first 2 columns got 329 observations\n",
      "For first 3 columns got 5 observations\n",
      "For first 4 columns got 1 observations\n",
      "For first 5 columns got 1 observations\n",
      "For first 6 columns got 1 observations\n",
      "[0.59809494, 0.34840402, 0.42562893, 0.7308466, 0.36568218, 0.36568218, 0.36568218]\n"
     ]
    },
    {
     "data": {
      "image/png": "[encoded data removed]",
      "text/plain": [
       "<Figure size 432x288 with 1 Axes>"
      ]
     },
     "metadata": {
      "needs_background": "light"
     },
     "output_type": "display_data"
    }
   ],
   "source": [
    "attributionPlotter.plot_attributions(random_person, random_column_order)"
   ]
  }
 ],
 "metadata": {
  "kernelspec": {
   "display_name": "Python 3",
   "language": "python",
   "name": "python3"
  },
  "language_info": {
   "codemirror_mode": {
    "name": "ipython",
    "version": 3
   },
   "file_extension": ".py",
   "mimetype": "text/x-python",
   "name": "python",
   "nbconvert_exporter": "python",
   "pygments_lexer": "ipython3",
   "version": "3.7.1"
  }
 },
 "nbformat": 4,
 "nbformat_minor": 2
}
